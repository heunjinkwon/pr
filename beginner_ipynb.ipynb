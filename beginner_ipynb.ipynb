{
  "nbformat": 4,
  "nbformat_minor": 0,
  "metadata": {
    "colab": {
      "name": "beginner.ipynb의 사본",
      "provenance": [],
      "private_outputs": true,
      "collapsed_sections": [],
      "toc_visible": true,
      "include_colab_link": true
    },
    "kernelspec": {
      "display_name": "Python 3",
      "language": "python",
      "name": "python3"
    },
    "accelerator": "GPU"
  },
  "cells": [
    {
      "cell_type": "markdown",
      "metadata": {
        "id": "view-in-github",
        "colab_type": "text"
      },
      "source": [
        "<a href=\"https://colab.research.google.com/github/heunjinkwon/pr/blob/master/beginner_ipynb.ipynb\" target=\"_parent\"><img src=\"https://colab.research.google.com/assets/colab-badge.svg\" alt=\"Open In Colab\"/></a>"
      ]
    },
    {
      "cell_type": "code",
      "metadata": {
        "cellView": "form",
        "colab_type": "code",
        "id": "BZSlp3DAjdYf",
        "colab": {}
      },
      "source": [
        "#@title Licensed under the Apache License, Version 2.0 (the \"License\");\n",
        "# you may not use this file except in compliance with the License.\n",
        "# You may obtain a copy of the License at\n",
        "#\n",
        "# https://www.apache.org/licenses/LICENSE-2.0\n",
        "#\n",
        "# Unless required by applicable law or agreed to in writing, software\n",
        "# distributed under the License is distributed on an \"AS IS\" BASIS,\n",
        "# WITHOUT WARRANTIES OR CONDITIONS OF ANY KIND, either express or implied.\n",
        "# See the License for the specific language governing permissions and\n",
        "# limitations under the License."
      ],
      "execution_count": 0,
      "outputs": []
    },
    {
      "cell_type": "code",
      "metadata": {
        "colab_type": "code",
        "id": "0trJmd6DjqBZ",
        "colab": {}
      },
      "source": [
        "!pip install tensorflow-gpu==2.0.0-rc1\n",
        "import tensorflow as tf"
      ],
      "execution_count": 0,
      "outputs": []
    },
    {
      "cell_type": "code",
      "metadata": {
        "colab_type": "code",
        "id": "7FP5258xjs-v",
        "colab": {}
      },
      "source": [
        "mnist = tf.keras.datasets.mnist\n",
        "\n",
        "(x_train, y_train), (x_test, y_test) = mnist.load_data()\n",
        "x_train, x_test = x_train / 255.0, x_test / 255.0"
      ],
      "execution_count": 0,
      "outputs": []
    },
    {
      "cell_type": "code",
      "metadata": {
        "colab_type": "code",
        "id": "h3IKyzTCDNGo",
        "colab": {}
      },
      "source": [
        "model = tf.keras.models.Sequential([\n",
        "  tf.keras.layers.Flatten(input_shape=(28, 28)),\n",
        "  tf.keras.layers.Dense(128, activation='relu'),\n",
        "  tf.keras.layers.Dropout(0.2),\n",
        "  tf.keras.layers.Dense(10, activation='softmax')\n",
        "])\n",
        "\n",
        "model.compile(optimizer='adam',\n",
        "              loss='sparse_categorical_crossentropy',\n",
        "              metrics=['accuracy'])"
      ],
      "execution_count": 0,
      "outputs": []
    },
    {
      "cell_type": "code",
      "metadata": {
        "colab_type": "code",
        "id": "F7dTAzgHDUh7",
        "colab": {}
      },
      "source": [
        "model.fit(x_train, y_train, epochs=5)\n",
        "\n",
        "model.evaluate(x_test,  y_test, verbose=2)"
      ],
      "execution_count": 0,
      "outputs": []
    },
    {
      "cell_type": "code",
      "metadata": {
        "id": "1HW7mUpmz4RE",
        "colab_type": "code",
        "colab": {}
      },
      "source": [
        "score = model.evaluate(x_test, y_test, verbose=0)\n",
        "print('Test loss: ', score[0])\n",
        "print('Test accuracy: ', score[1])"
      ],
      "execution_count": 0,
      "outputs": []
    },
    {
      "cell_type": "code",
      "metadata": {
        "id": "WElhWy2v0wwv",
        "colab_type": "code",
        "colab": {}
      },
      "source": [
        "model.save('MNIST_CNN_model.h5')"
      ],
      "execution_count": 0,
      "outputs": []
    },
    {
      "cell_type": "code",
      "metadata": {
        "id": "xG-Ofbwz1SuS",
        "colab_type": "code",
        "colab": {}
      },
      "source": [
        "model.summary()"
      ],
      "execution_count": 0,
      "outputs": []
    },
    {
      "cell_type": "code",
      "metadata": {
        "id": "fYqzz6by24p8",
        "colab_type": "code",
        "colab": {}
      },
      "source": [
        "import warnings\n",
        "warnings.simplefilter(action='ignore', category=FutureWarning)\n",
        "\n",
        "import sys\n",
        "import tensorflow as tf\n",
        "import keras\n",
        "from keras.models import Sequential\n",
        "from keras.layers import Dense, Dropout, Flatten\n",
        "from keras.layers.convolutional import Conv2D, MaxPooling2D\n",
        "import numpy as np\n",
        "np.random.seed(7)\n",
        "\n",
        "print('Python version : ', sys.version)\n",
        "print('TensorFlow version : ', tf.__version__)\n",
        "print('Keras version : ', keras.__version__)\n"
      ],
      "execution_count": 0,
      "outputs": []
    },
    {
      "cell_type": "code",
      "metadata": {
        "id": "EAXz7hWv4ves",
        "colab_type": "code",
        "colab": {}
      },
      "source": [
        "img_rows = 28\n",
        "img_cols = 28\n",
        "\n",
        "(x_train, y_train), (x_test, y_test) = keras.datasets.mnist.load_data()\n",
        "\n",
        "input_shape = (img_rows, img_cols, 1)\n",
        "x_train = x_train.reshape(x_train.shape[0], img_rows, img_cols, 1)\n",
        "x_test = x_test.reshape(x_test.shape[0], img_rows, img_cols, 1)\n",
        "\n",
        "x_train = x_train.astype('float32') / 255.\n",
        "x_test = x_test.astype('float32') / 255.\n",
        "\n",
        "print('x_train shape:', x_train.shape)\n",
        "print(x_train.shape[0], 'train samples')\n",
        "print(x_test.shape[0], 'test samples')\n",
        "\n",
        "batch_size = 128\n",
        "num_classes = 10\n",
        "epochs = 12\n",
        "\n",
        "y_train = keras.utils.to_categorical(y_train, num_classes)\n",
        "y_test = keras.utils.to_categorical(y_test, num_classes)"
      ],
      "execution_count": 0,
      "outputs": []
    },
    {
      "cell_type": "code",
      "metadata": {
        "id": "RrVxTDdC7qX6",
        "colab_type": "code",
        "colab": {}
      },
      "source": [
        "model = Sequential()\n",
        "model.add(Conv2D(32, kernel_size=(5, 5), strides=(1, 1), padding='same',\n",
        "                 activation='relu',\n",
        "                 input_shape=input_shape))\n",
        "model.add(MaxPooling2D(pool_size=(2, 2), strides=(2, 2)))\n",
        "model.add(Conv2D(64, (2, 2), activation='relu', padding='same'))\n",
        "model.add(MaxPooling2D(pool_size=(2, 2)))\n",
        "model.add(Dropout(0.25))\n",
        "model.add(Flatten())\n",
        "model.add(Dense(1000, activation='relu'))\n",
        "model.add(Dropout(0.5))\n",
        "model.add(Dense(num_classes, activation='softmax'))\n",
        "model.summary()"
      ],
      "execution_count": 0,
      "outputs": []
    },
    {
      "cell_type": "code",
      "metadata": {
        "id": "82GjmJRG7xKI",
        "colab_type": "code",
        "colab": {}
      },
      "source": [
        "from IPython.display import SVG\n",
        "from keras.utils.vis_utils import model_to_dot\n",
        "%matplotlib inline\n",
        "\n",
        "SVG(model_to_dot(model, show_shapes=True).create(prog='dot', format='svg'))"
      ],
      "execution_count": 0,
      "outputs": []
    },
    {
      "cell_type": "code",
      "metadata": {
        "id": "VVk-PSYV70YM",
        "colab_type": "code",
        "colab": {}
      },
      "source": [
        "model.compile(loss='categorical_crossentropy', optimizer='adam', metrics=['accuracy'])\n",
        "hist = model.fit(x_train, y_train,\n",
        "                 batch_size=batch_size,\n",
        "                 epochs=epochs,\n",
        "                 verbose=1, \n",
        "                 validation_data=(x_test, y_test))"
      ],
      "execution_count": 0,
      "outputs": []
    },
    {
      "cell_type": "code",
      "metadata": {
        "id": "7cR3MfKd8I5j",
        "colab_type": "code",
        "colab": {}
      },
      "source": [
        "score = model.evaluate(x_test, y_test, verbose=0)\n",
        "print('Test loss:', score[0])\n",
        "print('Test accuracy:', score[1])"
      ],
      "execution_count": 0,
      "outputs": []
    },
    {
      "cell_type": "code",
      "metadata": {
        "id": "ovuyJ0ga8Op4",
        "colab_type": "code",
        "colab": {}
      },
      "source": [
        "import matplotlib.pyplot as plt\n",
        "n = 0\n",
        "plt.imshow(x_test[n].reshape(28, 28), cmap='Greys', interpolation='nearest')\n",
        "plt.show()\n",
        "\n",
        "print('The Answer is ', model.predict_classes(x_test[n].reshape((1, 28, 28, 1))))"
      ],
      "execution_count": 0,
      "outputs": []
    },
    {
      "cell_type": "code",
      "metadata": {
        "id": "cNTH7CXg8kmE",
        "colab_type": "code",
        "colab": {}
      },
      "source": [
        "import random\n",
        "\n",
        "predicted_result = model.predict(x_test)\n",
        "predicted_labels = np.argmax(predicted_result, axis=1)\n",
        "\n",
        "test_labels = np.argmax(y_test, axis=1)\n",
        "\n",
        "wrong_result = []\n",
        "\n",
        "for n in range(0, len(test_labels)):\n",
        "    if predicted_labels[n] != test_labels[n]:\n",
        "        wrong_result.append(n)\n",
        "\n",
        "samples = random.choices(population=wrong_result, k=16)\n",
        "\n",
        "count = 0\n",
        "nrows = ncols = 4\n",
        "\n",
        "plt.figure(figsize=(12,8))\n",
        "\n",
        "for n in samples:\n",
        "    count += 1\n",
        "    plt.subplot(nrows, ncols, count)\n",
        "    plt.imshow(x_test[n].reshape(28, 28), cmap='Greys', interpolation='nearest')\n",
        "    tmp = \"Label:\" + str(test_labels[n]) + \", Prediction:\" + str(predicted_labels[n])\n",
        "    plt.title(tmp)\n",
        "\n",
        "plt.tight_layout()\n",
        "plt.show()"
      ],
      "execution_count": 0,
      "outputs": []
    },
    {
      "cell_type": "code",
      "metadata": {
        "id": "fLBeF7xv9INI",
        "colab_type": "code",
        "colab": {}
      },
      "source": [
        "model.summary()"
      ],
      "execution_count": 0,
      "outputs": []
    },
    {
      "cell_type": "code",
      "metadata": {
        "id": "nIkyQ9Yc9OR4",
        "colab_type": "code",
        "colab": {}
      },
      "source": [
        "import matplotlib.pyplot as plt\n",
        "%matplotlib inline\n",
        "\n",
        "test1 = plt.imread('./batch_1.jpg')\n",
        "plt.imshow(test1);"
      ],
      "execution_count": 0,
      "outputs": []
    },
    {
      "cell_type": "code",
      "metadata": {
        "id": "J87vcDxk_RHX",
        "colab_type": "code",
        "colab": {}
      },
      "source": [
        "test_num = plt.imread('./batch_1.jpg')\n",
        "test_num = test_num[:,:,0]\n",
        "test_num = (test_num > 125) * test_num\n",
        "test_num = test_num.astype('float32') / 255.\n",
        "\n",
        "plt.imshow(test_num, cmap='Greys', interpolation='nearest');\n",
        "\n",
        "test_num = test_num.reshape((1, 28, 28, 1))\n",
        "\n",
        "print('The Answer is ', model.predict_classes(test_num))"
      ],
      "execution_count": 0,
      "outputs": []
    },
    {
      "cell_type": "code",
      "metadata": {
        "id": "ke9Gsgxbvd9M",
        "colab_type": "code",
        "colab": {}
      },
      "source": [
        "test_num = plt.imread('./batch_2.jpg')\n",
        "test_num = test_num[:,:,0]\n",
        "test_num = (test_num > 125) * test_num\n",
        "test_num = test_num.astype('float32') / 255.\n",
        "\n",
        "plt.imshow(test_num, cmap='Greys', interpolation='nearest');\n",
        "\n",
        "test_num = test_num.reshape((1, 28, 28, 1))\n",
        "\n",
        "print('The Answer is ', model.predict_classes(test_num))"
      ],
      "execution_count": 0,
      "outputs": []
    },
    {
      "cell_type": "code",
      "metadata": {
        "id": "myw7rVgEve43",
        "colab_type": "code",
        "colab": {}
      },
      "source": [
        "test_num = plt.imread('./batch_3.jpg')\n",
        "test_num = test_num[:,:,0]\n",
        "test_num = (test_num > 125) * test_num\n",
        "test_num = test_num.astype('float32') / 255.\n",
        "\n",
        "plt.imshow(test_num, cmap='Greys', interpolation='nearest');\n",
        "\n",
        "test_num = test_num.reshape((1, 28, 28, 1))\n",
        "\n",
        "print('The Answer is ', model.predict_classes(test_num))"
      ],
      "execution_count": 0,
      "outputs": []
    },
    {
      "cell_type": "code",
      "metadata": {
        "id": "S7FQ-ORyvfZW",
        "colab_type": "code",
        "colab": {}
      },
      "source": [
        "test_num = plt.imread('./batch_4.jpg')\n",
        "test_num = test_num[:,:,0]\n",
        "test_num = (test_num > 125) * test_num\n",
        "test_num = test_num.astype('float32') / 255.\n",
        "\n",
        "plt.imshow(test_num, cmap='Greys', interpolation='nearest');\n",
        "\n",
        "test_num = test_num.reshape((1, 28, 28, 1))\n",
        "\n",
        "print('The Answer is ', model.predict_classes(test_num))"
      ],
      "execution_count": 0,
      "outputs": []
    },
    {
      "cell_type": "code",
      "metadata": {
        "id": "ixnL5vxavf1l",
        "colab_type": "code",
        "colab": {}
      },
      "source": [
        "test_num = plt.imread('./batch_5.jpg')\n",
        "test_num = test_num[:,:,0]\n",
        "test_num = (test_num > 125) * test_num\n",
        "test_num = test_num.astype('float32') / 255.\n",
        "\n",
        "plt.imshow(test_num, cmap='Greys', interpolation='nearest');\n",
        "\n",
        "test_num = test_num.reshape((1, 28, 28, 1))\n",
        "\n",
        "print('The Answer is ', model.predict_classes(test_num))"
      ],
      "execution_count": 0,
      "outputs": []
    },
    {
      "cell_type": "code",
      "metadata": {
        "id": "MKnorEoevgLe",
        "colab_type": "code",
        "colab": {}
      },
      "source": [
        "test_num = plt.imread('./batch_6.jpg')\n",
        "test_num = test_num[:,:,0]\n",
        "test_num = (test_num > 125) * test_num\n",
        "test_num = test_num.astype('float32') / 255.\n",
        "\n",
        "plt.imshow(test_num, cmap='Greys', interpolation='nearest');\n",
        "\n",
        "test_num = test_num.reshape((1, 28, 28, 1))\n",
        "\n",
        "print('The Answer is ', model.predict_classes(test_num))"
      ],
      "execution_count": 0,
      "outputs": []
    },
    {
      "cell_type": "code",
      "metadata": {
        "id": "bzRl2XXbvgk1",
        "colab_type": "code",
        "colab": {}
      },
      "source": [
        "test_num = plt.imread('./batch_7.jpg')\n",
        "test_num = test_num[:,:,0]\n",
        "test_num = (test_num > 125) * test_num\n",
        "test_num = test_num.astype('float32') / 255.\n",
        "\n",
        "plt.imshow(test_num, cmap='Greys', interpolation='nearest');\n",
        "\n",
        "test_num = test_num.reshape((1, 28, 28, 1))\n",
        "\n",
        "print('The Answer is ', model.predict_classes(test_num))"
      ],
      "execution_count": 0,
      "outputs": []
    },
    {
      "cell_type": "code",
      "metadata": {
        "id": "cWv7eypbvg41",
        "colab_type": "code",
        "colab": {}
      },
      "source": [
        "test_num = plt.imread('./batch_8.jpg')\n",
        "test_num = test_num[:,:,0]\n",
        "test_num = (test_num > 125) * test_num\n",
        "test_num = test_num.astype('float32') / 255.\n",
        "\n",
        "plt.imshow(test_num, cmap='Greys', interpolation='nearest');\n",
        "\n",
        "test_num = test_num.reshape((1, 28, 28, 1))\n",
        "\n",
        "print('The Answer is ', model.predict_classes(test_num))"
      ],
      "execution_count": 0,
      "outputs": []
    },
    {
      "cell_type": "code",
      "metadata": {
        "id": "FVnSrUlWvhND",
        "colab_type": "code",
        "colab": {}
      },
      "source": [
        "test_num = plt.imread('./batch_9.jpg')\n",
        "test_num = test_num[:,:,0]\n",
        "test_num = (test_num > 125) * test_num\n",
        "test_num = test_num.astype('float32') / 255.\n",
        "\n",
        "plt.imshow(test_num, cmap='Greys', interpolation='nearest');\n",
        "\n",
        "test_num = test_num.reshape((1, 28, 28, 1))\n",
        "\n",
        "print('The Answer is ', model.predict_classes(test_num))"
      ],
      "execution_count": 0,
      "outputs": []
    },
    {
      "cell_type": "code",
      "metadata": {
        "id": "XxWT0Ki4vhhi",
        "colab_type": "code",
        "colab": {}
      },
      "source": [
        "test_num = plt.imread('./batch_0.jpg')\n",
        "test_num = test_num[:,:,0]\n",
        "test_num = (test_num > 125) * test_num\n",
        "test_num = test_num.astype('float32') / 255.\n",
        "\n",
        "plt.imshow(test_num, cmap='Greys', interpolation='nearest');\n",
        "\n",
        "test_num = test_num.reshape((1, 28, 28, 1))\n",
        "\n",
        "print('The Answer is ', model.predict_classes(test_num))"
      ],
      "execution_count": 0,
      "outputs": []
    },
    {
      "cell_type": "code",
      "metadata": {
        "id": "G-rhPtPGXt_u",
        "colab_type": "code",
        "colab": {}
      },
      "source": [
        "test_num = plt.imread('./batch_1-.jpg')\n",
        "test_num = test_num[:,:,0]\n",
        "test_num = (test_num > 125) * test_num\n",
        "test_num = test_num.astype('float32') / 255.\n",
        "\n",
        "plt.imshow(test_num, cmap='Greys', interpolation='nearest');\n",
        "\n",
        "test_num = test_num.reshape((1, 28, 28, 1))\n",
        "\n",
        "print('The Answer is ', model.predict_classes(test_num))"
      ],
      "execution_count": 0,
      "outputs": []
    },
    {
      "cell_type": "code",
      "metadata": {
        "id": "k9LzPZ0YXuNK",
        "colab_type": "code",
        "colab": {}
      },
      "source": [
        "test_num = plt.imread('./batch_2-.jpg')\n",
        "test_num = test_num[:,:,0]\n",
        "test_num = (test_num > 125) * test_num\n",
        "test_num = test_num.astype('float32') / 255.\n",
        "\n",
        "plt.imshow(test_num, cmap='Greys', interpolation='nearest');\n",
        "\n",
        "test_num = test_num.reshape((1, 28, 28, 1))\n",
        "\n",
        "print('The Answer is ', model.predict_classes(test_num))"
      ],
      "execution_count": 0,
      "outputs": []
    }
  ]
}