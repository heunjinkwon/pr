{
  "nbformat": 4,
  "nbformat_minor": 0,
  "metadata": {
    "colab": {
      "name": "MTCNNvsDlibFaceDetection.ipynb의 사본",
      "provenance": [],
      "include_colab_link": true
    },
    "kernelspec": {
      "name": "python3",
      "display_name": "Python 3"
    },
    "accelerator": "GPU"
  },
  "cells": [
    {
      "cell_type": "markdown",
      "metadata": {
        "id": "view-in-github",
        "colab_type": "text"
      },
      "source": [
        "<a href=\"https://colab.research.google.com/github/heunjinkwon/pr/blob/master/MTCNNvsDlibFaceDetection.ipynb\" target=\"_parent\"><img src=\"https://colab.research.google.com/assets/colab-badge.svg\" alt=\"Open In Colab\"/></a>"
      ]
    },
    {
      "cell_type": "markdown",
      "metadata": {
        "id": "XhBeDBXQLygm",
        "colab_type": "text"
      },
      "source": [
        "# Face Detection Example comparing Dlib and MTCNN face detector\n"
      ]
    },
    {
      "cell_type": "code",
      "metadata": {
        "id": "Z9NQkWMGE07P",
        "colab_type": "code",
        "colab": {}
      },
      "source": [
        "# No need to clone the repo, but in case someone wants to inspect the code.\n",
        "!git clone https://github.com/ipazc/mtcnn.git\n",
        "!git clone https://github.com/ageitgey/face_recognition.git  "
      ],
      "execution_count": 0,
      "outputs": []
    },
    {
      "cell_type": "code",
      "metadata": {
        "id": "vDk5ZBMPHMq2",
        "colab_type": "code",
        "colab": {}
      },
      "source": [
        "!apt-get install build-essential cmake\n",
        "!apt-get install libopenblas-dev liblapack-dev \n",
        "!pip3 install dlib\n",
        "!pip3 install face_recognition"
      ],
      "execution_count": 0,
      "outputs": []
    },
    {
      "cell_type": "code",
      "metadata": {
        "id": "n7IBNZcRE38G",
        "colab_type": "code",
        "colab": {}
      },
      "source": [
        "!pip3 install mtcnn\n",
        "!pip3 install opencv-contrib-python"
      ],
      "execution_count": 0,
      "outputs": []
    },
    {
      "cell_type": "code",
      "metadata": {
        "id": "VLDNw9PBEHBE",
        "colab_type": "code",
        "colab": {}
      },
      "source": [
        "!ls -la face_recognition/tests/test_images/"
      ],
      "execution_count": 0,
      "outputs": []
    },
    {
      "cell_type": "markdown",
      "metadata": {
        "id": "UJn9Eu8sME6M",
        "colab_type": "text"
      },
      "source": [
        "**Timing the MTCNN Detector**"
      ]
    },
    {
      "cell_type": "code",
      "metadata": {
        "id": "gA9B5akoFAKY",
        "colab_type": "code",
        "colab": {}
      },
      "source": [
        "from mtcnn.mtcnn import MTCNN\n",
        "import cv2\n",
        "\n",
        "filename = \"face_recognition/tests/test_images/obama2.jpg\"\n",
        "img = cv2.imread(filename)\n",
        "detector = MTCNN()"
      ],
      "execution_count": 0,
      "outputs": []
    },
    {
      "cell_type": "code",
      "metadata": {
        "id": "aqS0aflMFEiH",
        "colab_type": "code",
        "colab": {}
      },
      "source": [
        "%%timeit\n",
        "\n",
        "face_locations = detector.detect_faces(img)"
      ],
      "execution_count": 0,
      "outputs": []
    },
    {
      "cell_type": "code",
      "metadata": {
        "id": "YBGJVzV-M2pN",
        "colab_type": "code",
        "colab": {}
      },
      "source": [
        "detector.detect_faces(img)"
      ],
      "execution_count": 0,
      "outputs": []
    },
    {
      "cell_type": "markdown",
      "metadata": {
        "id": "ojhAeyrhMTcf",
        "colab_type": "text"
      },
      "source": [
        "**Timing the Dlib-based Face Detector**"
      ]
    },
    {
      "cell_type": "code",
      "metadata": {
        "id": "9T4peShSRJOg",
        "colab_type": "code",
        "colab": {}
      },
      "source": [
        "from PIL import Image\n",
        "import face_recognition\n",
        "\n",
        "# Load the jpg file into a numpy array\n",
        "image = face_recognition.load_image_file(filename)"
      ],
      "execution_count": 0,
      "outputs": []
    },
    {
      "cell_type": "code",
      "metadata": {
        "id": "Ppkr-GSpRNqq",
        "colab_type": "code",
        "colab": {}
      },
      "source": [
        "%%timeit \n",
        "\n",
        "# Find all the faces in the image using the default HOG-based model.\n",
        "# This method is fairly accurate, but not as accurate as the CNN model and not GPU accelerated.\n",
        "# See also: find_faces_in_picture_cnn.py\n",
        "face_locations = face_recognition.face_locations(image)"
      ],
      "execution_count": 0,
      "outputs": []
    },
    {
      "cell_type": "code",
      "metadata": {
        "id": "m3kNTGwZ_zBC",
        "colab_type": "code",
        "colab": {}
      },
      "source": [
        "%matplotlib inline\n",
        "\n",
        "from matplotlib import pyplot as plt\n",
        "import matplotlib.pyplot as plt\n",
        "plt.rcParams['figure.figsize'] = [16, 10]\n",
        "\n",
        "face_locations = face_recognition.face_locations(image)\n",
        "\n",
        "print(\"Found {} face(s) in this photograph.\".format(len(face_locations)))\n",
        "\n",
        "for face_location in face_locations:\n",
        "\n",
        "    # Print the location of each face in this image\n",
        "    top, right, bottom, left = face_location\n",
        "    print(\"A face is located at pixel location Top: {}, Left: {}, Bottom: {}, Right: {}\".format(top, left, bottom, right))\n",
        "\n",
        "    # You can access the actual face itself like this:\n",
        "    face_image = image[top:bottom, left:right]\n",
        "    plt.imshow(face_image)\n",
        "    plt.show()"
      ],
      "execution_count": 0,
      "outputs": []
    }
  ]
}