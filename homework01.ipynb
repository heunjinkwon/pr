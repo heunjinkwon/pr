{
  "nbformat": 4,
  "nbformat_minor": 0,
  "metadata": {
    "colab": {
      "name": "homework01.ipynb의 사본",
      "provenance": [],
      "authorship_tag": "ABX9TyOQaQyY9YwBbemvr5FmgoGq",
      "include_colab_link": true
    },
    "kernelspec": {
      "name": "python3",
      "display_name": "Python 3"
    },
    "accelerator": "GPU"
  },
  "cells": [
    {
      "cell_type": "markdown",
      "metadata": {
        "id": "view-in-github",
        "colab_type": "text"
      },
      "source": [
        "<a href=\"https://colab.research.google.com/github/heunjinkwon/pr/blob/master/homework01.ipynb\" target=\"_parent\"><img src=\"https://colab.research.google.com/assets/colab-badge.svg\" alt=\"Open In Colab\"/></a>"
      ]
    },
    {
      "cell_type": "code",
      "metadata": {
        "id": "FkcC9qiNYIr7",
        "colab_type": "code",
        "outputId": "2197b0c1-5213-4cae-f6a4-8d22297f9afb",
        "colab": {
          "base_uri": "https://localhost:8080/",
          "height": 34
        }
      },
      "source": [
        "!ls"
      ],
      "execution_count": 0,
      "outputs": [
        {
          "output_type": "stream",
          "text": [
            "sample_data\n"
          ],
          "name": "stdout"
        }
      ]
    },
    {
      "cell_type": "code",
      "metadata": {
        "id": "B9oWZ6MCZfAx",
        "colab_type": "code",
        "outputId": "3e545ba8-320b-4d90-aa96-322fdf85779f",
        "colab": {
          "base_uri": "https://localhost:8080/",
          "height": 34
        }
      },
      "source": [
        "import tensorflow as tf\n",
        "print (tf.__version__)"
      ],
      "execution_count": 0,
      "outputs": [
        {
          "output_type": "stream",
          "text": [
            "2.1.0\n"
          ],
          "name": "stdout"
        }
      ]
    },
    {
      "cell_type": "code",
      "metadata": {
        "id": "REJ-fJzQZqe1",
        "colab_type": "code",
        "outputId": "dafec035-19bd-4bc3-a95f-27cebdc67cab",
        "colab": {
          "base_uri": "https://localhost:8080/",
          "height": 140
        }
      },
      "source": [
        "!pip uninstall tensorflow"
      ],
      "execution_count": 0,
      "outputs": [
        {
          "output_type": "stream",
          "text": [
            "Uninstalling tensorflow-1.15.0:\n",
            "  Would remove:\n",
            "    /tensorflow-1.15.0/python3.6/tensorflow-1.15.0.dist-info/*\n",
            "    /tensorflow-1.15.0/python3.6/tensorflow/*\n",
            "    /tensorflow-1.15.0/python3.6/tensorflow_core/*\n",
            "Proceed (y/n)? y\n",
            "  Successfully uninstalled tensorflow-1.15.0\n"
          ],
          "name": "stdout"
        }
      ]
    },
    {
      "cell_type": "code",
      "metadata": {
        "id": "2n5DZM1yZ150",
        "colab_type": "code",
        "outputId": "dd72623b-d416-411b-89c3-69e83212c7b5",
        "colab": {
          "base_uri": "https://localhost:8080/",
          "height": 178
        }
      },
      "source": [
        "!pip install --upgrade pip"
      ],
      "execution_count": 0,
      "outputs": [
        {
          "output_type": "stream",
          "text": [
            "Collecting pip\n",
            "\u001b[?25l  Downloading https://files.pythonhosted.org/packages/54/0c/d01aa759fdc501a58f431eb594a17495f15b88da142ce14b5845662c13f3/pip-20.0.2-py2.py3-none-any.whl (1.4MB)\n",
            "\r\u001b[K     |▎                               | 10kB 21.5MB/s eta 0:00:01\r\u001b[K     |▌                               | 20kB 28.9MB/s eta 0:00:01\r\u001b[K     |▊                               | 30kB 16.4MB/s eta 0:00:01\r\u001b[K     |█                               | 40kB 12.7MB/s eta 0:00:01\r\u001b[K     |█▏                              | 51kB 11.9MB/s eta 0:00:01\r\u001b[K     |█▍                              | 61kB 11.8MB/s eta 0:00:01\r\u001b[K     |█▋                              | 71kB 12.2MB/s eta 0:00:01\r\u001b[K     |█▉                              | 81kB 12.2MB/s eta 0:00:01\r\u001b[K     |██                              | 92kB 11.6MB/s eta 0:00:01\r\u001b[K     |██▎                             | 102kB 11.6MB/s eta 0:00:01\r\u001b[K     |██▌                             | 112kB 11.6MB/s eta 0:00:01\r\u001b[K     |██▊                             | 122kB 11.6MB/s eta 0:00:01\r\u001b[K     |███                             | 133kB 11.6MB/s eta 0:00:01\r\u001b[K     |███▏                            | 143kB 11.6MB/s eta 0:00:01\r\u001b[K     |███▍                            | 153kB 11.6MB/s eta 0:00:01\r\u001b[K     |███▋                            | 163kB 11.6MB/s eta 0:00:01\r\u001b[K     |███▉                            | 174kB 11.6MB/s eta 0:00:01\r\u001b[K     |████                            | 184kB 11.6MB/s eta 0:00:01\r\u001b[K     |████▎                           | 194kB 11.6MB/s eta 0:00:01\r\u001b[K     |████▌                           | 204kB 11.6MB/s eta 0:00:01\r\u001b[K     |████▊                           | 215kB 11.6MB/s eta 0:00:01\r\u001b[K     |█████                           | 225kB 11.6MB/s eta 0:00:01\r\u001b[K     |█████▎                          | 235kB 11.6MB/s eta 0:00:01\r\u001b[K     |█████▌                          | 245kB 11.6MB/s eta 0:00:01\r\u001b[K     |█████▊                          | 256kB 11.6MB/s eta 0:00:01\r\u001b[K     |██████                          | 266kB 11.6MB/s eta 0:00:01\r\u001b[K     |██████▏                         | 276kB 11.6MB/s eta 0:00:01\r\u001b[K     |██████▍                         | 286kB 11.6MB/s eta 0:00:01\r\u001b[K     |██████▋                         | 296kB 11.6MB/s eta 0:00:01\r\u001b[K     |██████▉                         | 307kB 11.6MB/s eta 0:00:01\r\u001b[K     |███████                         | 317kB 11.6MB/s eta 0:00:01\r\u001b[K     |███████▎                        | 327kB 11.6MB/s eta 0:00:01\r\u001b[K     |███████▌                        | 337kB 11.6MB/s eta 0:00:01\r\u001b[K     |███████▊                        | 348kB 11.6MB/s eta 0:00:01\r\u001b[K     |████████                        | 358kB 11.6MB/s eta 0:00:01\r\u001b[K     |████████▏                       | 368kB 11.6MB/s eta 0:00:01\r\u001b[K     |████████▍                       | 378kB 11.6MB/s eta 0:00:01\r\u001b[K     |████████▋                       | 389kB 11.6MB/s eta 0:00:01\r\u001b[K     |████████▉                       | 399kB 11.6MB/s eta 0:00:01\r\u001b[K     |█████████                       | 409kB 11.6MB/s eta 0:00:01\r\u001b[K     |█████████▎                      | 419kB 11.6MB/s eta 0:00:01\r\u001b[K     |█████████▌                      | 430kB 11.6MB/s eta 0:00:01\r\u001b[K     |█████████▉                      | 440kB 11.6MB/s eta 0:00:01\r\u001b[K     |██████████                      | 450kB 11.6MB/s eta 0:00:01\r\u001b[K     |██████████▎                     | 460kB 11.6MB/s eta 0:00:01\r\u001b[K     |██████████▌                     | 471kB 11.6MB/s eta 0:00:01\r\u001b[K     |██████████▊                     | 481kB 11.6MB/s eta 0:00:01\r\u001b[K     |███████████                     | 491kB 11.6MB/s eta 0:00:01\r\u001b[K     |███████████▏                    | 501kB 11.6MB/s eta 0:00:01\r\u001b[K     |███████████▍                    | 512kB 11.6MB/s eta 0:00:01\r\u001b[K     |███████████▋                    | 522kB 11.6MB/s eta 0:00:01\r\u001b[K     |███████████▉                    | 532kB 11.6MB/s eta 0:00:01\r\u001b[K     |████████████                    | 542kB 11.6MB/s eta 0:00:01\r\u001b[K     |████████████▎                   | 552kB 11.6MB/s eta 0:00:01\r\u001b[K     |████████████▌                   | 563kB 11.6MB/s eta 0:00:01\r\u001b[K     |████████████▊                   | 573kB 11.6MB/s eta 0:00:01\r\u001b[K     |█████████████                   | 583kB 11.6MB/s eta 0:00:01\r\u001b[K     |█████████████▏                  | 593kB 11.6MB/s eta 0:00:01\r\u001b[K     |█████████████▍                  | 604kB 11.6MB/s eta 0:00:01\r\u001b[K     |█████████████▋                  | 614kB 11.6MB/s eta 0:00:01\r\u001b[K     |█████████████▉                  | 624kB 11.6MB/s eta 0:00:01\r\u001b[K     |██████████████                  | 634kB 11.6MB/s eta 0:00:01\r\u001b[K     |██████████████▎                 | 645kB 11.6MB/s eta 0:00:01\r\u001b[K     |██████████████▌                 | 655kB 11.6MB/s eta 0:00:01\r\u001b[K     |██████████████▉                 | 665kB 11.6MB/s eta 0:00:01\r\u001b[K     |███████████████                 | 675kB 11.6MB/s eta 0:00:01\r\u001b[K     |███████████████▎                | 686kB 11.6MB/s eta 0:00:01\r\u001b[K     |███████████████▌                | 696kB 11.6MB/s eta 0:00:01\r\u001b[K     |███████████████▊                | 706kB 11.6MB/s eta 0:00:01\r\u001b[K     |████████████████                | 716kB 11.6MB/s eta 0:00:01\r\u001b[K     |████████████████▏               | 727kB 11.6MB/s eta 0:00:01\r\u001b[K     |████████████████▍               | 737kB 11.6MB/s eta 0:00:01\r\u001b[K     |████████████████▋               | 747kB 11.6MB/s eta 0:00:01\r\u001b[K     |████████████████▉               | 757kB 11.6MB/s eta 0:00:01\r\u001b[K     |█████████████████               | 768kB 11.6MB/s eta 0:00:01\r\u001b[K     |█████████████████▎              | 778kB 11.6MB/s eta 0:00:01\r\u001b[K     |█████████████████▌              | 788kB 11.6MB/s eta 0:00:01\r\u001b[K     |█████████████████▊              | 798kB 11.6MB/s eta 0:00:01\r\u001b[K     |██████████████████              | 808kB 11.6MB/s eta 0:00:01\r\u001b[K     |██████████████████▏             | 819kB 11.6MB/s eta 0:00:01\r\u001b[K     |██████████████████▍             | 829kB 11.6MB/s eta 0:00:01\r\u001b[K     |██████████████████▋             | 839kB 11.6MB/s eta 0:00:01\r\u001b[K     |██████████████████▉             | 849kB 11.6MB/s eta 0:00:01\r\u001b[K     |███████████████████             | 860kB 11.6MB/s eta 0:00:01\r\u001b[K     |███████████████████▎            | 870kB 11.6MB/s eta 0:00:01\r\u001b[K     |███████████████████▋            | 880kB 11.6MB/s eta 0:00:01\r\u001b[K     |███████████████████▉            | 890kB 11.6MB/s eta 0:00:01\r\u001b[K     |████████████████████            | 901kB 11.6MB/s eta 0:00:01\r\u001b[K     |████████████████████▎           | 911kB 11.6MB/s eta 0:00:01\r\u001b[K     |████████████████████▌           | 921kB 11.6MB/s eta 0:00:01\r\u001b[K     |████████████████████▊           | 931kB 11.6MB/s eta 0:00:01\r\u001b[K     |█████████████████████           | 942kB 11.6MB/s eta 0:00:01\r\u001b[K     |█████████████████████▏          | 952kB 11.6MB/s eta 0:00:01\r\u001b[K     |█████████████████████▍          | 962kB 11.6MB/s eta 0:00:01\r\u001b[K     |█████████████████████▋          | 972kB 11.6MB/s eta 0:00:01\r\u001b[K     |█████████████████████▉          | 983kB 11.6MB/s eta 0:00:01\r\u001b[K     |██████████████████████          | 993kB 11.6MB/s eta 0:00:01\r\u001b[K     |██████████████████████▎         | 1.0MB 11.6MB/s eta 0:00:01\r\u001b[K     |██████████████████████▌         | 1.0MB 11.6MB/s eta 0:00:01\r\u001b[K     |██████████████████████▊         | 1.0MB 11.6MB/s eta 0:00:01\r\u001b[K     |███████████████████████         | 1.0MB 11.6MB/s eta 0:00:01\r\u001b[K     |███████████████████████▏        | 1.0MB 11.6MB/s eta 0:00:01\r\u001b[K     |███████████████████████▍        | 1.1MB 11.6MB/s eta 0:00:01\r\u001b[K     |███████████████████████▋        | 1.1MB 11.6MB/s eta 0:00:01\r\u001b[K     |███████████████████████▉        | 1.1MB 11.6MB/s eta 0:00:01\r\u001b[K     |████████████████████████        | 1.1MB 11.6MB/s eta 0:00:01\r\u001b[K     |████████████████████████▎       | 1.1MB 11.6MB/s eta 0:00:01\r\u001b[K     |████████████████████████▋       | 1.1MB 11.6MB/s eta 0:00:01\r\u001b[K     |████████████████████████▉       | 1.1MB 11.6MB/s eta 0:00:01\r\u001b[K     |█████████████████████████       | 1.1MB 11.6MB/s eta 0:00:01\r\u001b[K     |█████████████████████████▎      | 1.1MB 11.6MB/s eta 0:00:01\r\u001b[K     |█████████████████████████▌      | 1.1MB 11.6MB/s eta 0:00:01\r\u001b[K     |█████████████████████████▊      | 1.2MB 11.6MB/s eta 0:00:01\r\u001b[K     |██████████████████████████      | 1.2MB 11.6MB/s eta 0:00:01\r\u001b[K     |██████████████████████████▏     | 1.2MB 11.6MB/s eta 0:00:01\r\u001b[K     |██████████████████████████▍     | 1.2MB 11.6MB/s eta 0:00:01\r\u001b[K     |██████████████████████████▋     | 1.2MB 11.6MB/s eta 0:00:01\r\u001b[K     |██████████████████████████▉     | 1.2MB 11.6MB/s eta 0:00:01\r\u001b[K     |███████████████████████████     | 1.2MB 11.6MB/s eta 0:00:01\r\u001b[K     |███████████████████████████▎    | 1.2MB 11.6MB/s eta 0:00:01\r\u001b[K     |███████████████████████████▌    | 1.2MB 11.6MB/s eta 0:00:01\r\u001b[K     |███████████████████████████▊    | 1.2MB 11.6MB/s eta 0:00:01\r\u001b[K     |████████████████████████████    | 1.3MB 11.6MB/s eta 0:00:01\r\u001b[K     |████████████████████████████▏   | 1.3MB 11.6MB/s eta 0:00:01\r\u001b[K     |████████████████████████████▍   | 1.3MB 11.6MB/s eta 0:00:01\r\u001b[K     |████████████████████████████▋   | 1.3MB 11.6MB/s eta 0:00:01\r\u001b[K     |████████████████████████████▉   | 1.3MB 11.6MB/s eta 0:00:01\r\u001b[K     |█████████████████████████████   | 1.3MB 11.6MB/s eta 0:00:01\r\u001b[K     |█████████████████████████████▍  | 1.3MB 11.6MB/s eta 0:00:01\r\u001b[K     |█████████████████████████████▋  | 1.3MB 11.6MB/s eta 0:00:01\r\u001b[K     |█████████████████████████████▉  | 1.3MB 11.6MB/s eta 0:00:01\r\u001b[K     |██████████████████████████████  | 1.4MB 11.6MB/s eta 0:00:01\r\u001b[K     |██████████████████████████████▎ | 1.4MB 11.6MB/s eta 0:00:01\r\u001b[K     |██████████████████████████████▌ | 1.4MB 11.6MB/s eta 0:00:01\r\u001b[K     |██████████████████████████████▊ | 1.4MB 11.6MB/s eta 0:00:01\r\u001b[K     |███████████████████████████████ | 1.4MB 11.6MB/s eta 0:00:01\r\u001b[K     |███████████████████████████████▏| 1.4MB 11.6MB/s eta 0:00:01\r\u001b[K     |███████████████████████████████▍| 1.4MB 11.6MB/s eta 0:00:01\r\u001b[K     |███████████████████████████████▋| 1.4MB 11.6MB/s eta 0:00:01\r\u001b[K     |███████████████████████████████▉| 1.4MB 11.6MB/s eta 0:00:01\r\u001b[K     |████████████████████████████████| 1.4MB 11.6MB/s \n",
            "\u001b[?25hInstalling collected packages: pip\n",
            "  Found existing installation: pip 19.3.1\n",
            "    Uninstalling pip-19.3.1:\n",
            "      Successfully uninstalled pip-19.3.1\n",
            "Successfully installed pip-20.0.2\n"
          ],
          "name": "stdout"
        }
      ]
    },
    {
      "cell_type": "code",
      "metadata": {
        "id": "mVNnGxFyaF3q",
        "colab_type": "code",
        "outputId": "515e456f-7da3-464e-991b-3eaca941f26b",
        "colab": {
          "base_uri": "https://localhost:8080/",
          "height": 1000
        }
      },
      "source": [
        "!pip install tensorflow"
      ],
      "execution_count": 0,
      "outputs": [
        {
          "output_type": "stream",
          "text": [
            "Requirement already satisfied: tensorflow in /usr/local/lib/python3.6/dist-packages (2.1.0)\n",
            "Requirement already satisfied: six>=1.12.0 in /usr/local/lib/python3.6/dist-packages (from tensorflow) (1.12.0)\n",
            "Requirement already satisfied: google-pasta>=0.1.6 in /usr/local/lib/python3.6/dist-packages (from tensorflow) (0.1.8)\n",
            "Requirement already satisfied: numpy<2.0,>=1.16.0 in /usr/local/lib/python3.6/dist-packages (from tensorflow) (1.18.1)\n",
            "Requirement already satisfied: opt-einsum>=2.3.2 in /usr/local/lib/python3.6/dist-packages (from tensorflow) (3.2.0)\n",
            "Requirement already satisfied: wrapt>=1.11.1 in /usr/local/lib/python3.6/dist-packages (from tensorflow) (1.12.1)\n",
            "Requirement already satisfied: grpcio>=1.8.6 in /usr/local/lib/python3.6/dist-packages (from tensorflow) (1.24.3)\n",
            "Requirement already satisfied: termcolor>=1.1.0 in /usr/local/lib/python3.6/dist-packages (from tensorflow) (1.1.0)\n",
            "Collecting tensorflow-estimator<2.2.0,>=2.1.0rc0\n",
            "  Downloading tensorflow_estimator-2.1.0-py2.py3-none-any.whl (448 kB)\n",
            "\u001b[K     |████████████████████████████████| 448 kB 37.7 MB/s \n",
            "\u001b[?25hRequirement already satisfied: wheel>=0.26; python_version >= \"3\" in /usr/local/lib/python3.6/dist-packages (from tensorflow) (0.34.2)\n",
            "Requirement already satisfied: scipy==1.4.1; python_version >= \"3\" in /usr/local/lib/python3.6/dist-packages (from tensorflow) (1.4.1)\n",
            "Collecting tensorboard<2.2.0,>=2.1.0\n",
            "  Downloading tensorboard-2.1.1-py3-none-any.whl (3.8 MB)\n",
            "\u001b[K     |████████████████████████████████| 3.8 MB 48.3 MB/s \n",
            "\u001b[?25hRequirement already satisfied: keras-preprocessing>=1.1.0 in /usr/local/lib/python3.6/dist-packages (from tensorflow) (1.1.0)\n",
            "Requirement already satisfied: astor>=0.6.0 in /usr/local/lib/python3.6/dist-packages (from tensorflow) (0.8.1)\n",
            "Requirement already satisfied: absl-py>=0.7.0 in /usr/local/lib/python3.6/dist-packages (from tensorflow) (0.9.0)\n",
            "Requirement already satisfied: protobuf>=3.8.0 in /usr/local/lib/python3.6/dist-packages (from tensorflow) (3.10.0)\n",
            "Requirement already satisfied: keras-applications>=1.0.8 in /usr/local/lib/python3.6/dist-packages (from tensorflow) (1.0.8)\n",
            "Requirement already satisfied: gast==0.2.2 in /usr/local/lib/python3.6/dist-packages (from tensorflow) (0.2.2)\n",
            "Requirement already satisfied: markdown>=2.6.8 in /usr/local/lib/python3.6/dist-packages (from tensorboard<2.2.0,>=2.1.0->tensorflow) (3.2.1)\n",
            "Requirement already satisfied: requests<3,>=2.21.0 in /usr/local/lib/python3.6/dist-packages (from tensorboard<2.2.0,>=2.1.0->tensorflow) (2.21.0)\n",
            "Requirement already satisfied: google-auth-oauthlib<0.5,>=0.4.1 in /usr/local/lib/python3.6/dist-packages (from tensorboard<2.2.0,>=2.1.0->tensorflow) (0.4.1)\n",
            "Requirement already satisfied: setuptools>=41.0.0 in /usr/local/lib/python3.6/dist-packages (from tensorboard<2.2.0,>=2.1.0->tensorflow) (45.2.0)\n",
            "Requirement already satisfied: google-auth<2,>=1.6.3 in /usr/local/lib/python3.6/dist-packages (from tensorboard<2.2.0,>=2.1.0->tensorflow) (1.7.2)\n",
            "Requirement already satisfied: werkzeug>=0.11.15 in /usr/local/lib/python3.6/dist-packages (from tensorboard<2.2.0,>=2.1.0->tensorflow) (1.0.0)\n",
            "Requirement already satisfied: h5py in /usr/local/lib/python3.6/dist-packages (from keras-applications>=1.0.8->tensorflow) (2.8.0)\n",
            "Requirement already satisfied: idna<2.9,>=2.5 in /usr/local/lib/python3.6/dist-packages (from requests<3,>=2.21.0->tensorboard<2.2.0,>=2.1.0->tensorflow) (2.8)\n",
            "Requirement already satisfied: certifi>=2017.4.17 in /usr/local/lib/python3.6/dist-packages (from requests<3,>=2.21.0->tensorboard<2.2.0,>=2.1.0->tensorflow) (2019.11.28)\n",
            "Requirement already satisfied: urllib3<1.25,>=1.21.1 in /usr/local/lib/python3.6/dist-packages (from requests<3,>=2.21.0->tensorboard<2.2.0,>=2.1.0->tensorflow) (1.24.3)\n",
            "Requirement already satisfied: chardet<3.1.0,>=3.0.2 in /usr/local/lib/python3.6/dist-packages (from requests<3,>=2.21.0->tensorboard<2.2.0,>=2.1.0->tensorflow) (3.0.4)\n",
            "Requirement already satisfied: requests-oauthlib>=0.7.0 in /usr/local/lib/python3.6/dist-packages (from google-auth-oauthlib<0.5,>=0.4.1->tensorboard<2.2.0,>=2.1.0->tensorflow) (1.3.0)\n",
            "Requirement already satisfied: rsa<4.1,>=3.1.4 in /usr/local/lib/python3.6/dist-packages (from google-auth<2,>=1.6.3->tensorboard<2.2.0,>=2.1.0->tensorflow) (4.0)\n",
            "Requirement already satisfied: pyasn1-modules>=0.2.1 in /usr/local/lib/python3.6/dist-packages (from google-auth<2,>=1.6.3->tensorboard<2.2.0,>=2.1.0->tensorflow) (0.2.8)\n",
            "Requirement already satisfied: cachetools<3.2,>=2.0.0 in /usr/local/lib/python3.6/dist-packages (from google-auth<2,>=1.6.3->tensorboard<2.2.0,>=2.1.0->tensorflow) (3.1.1)\n",
            "Requirement already satisfied: oauthlib>=3.0.0 in /usr/local/lib/python3.6/dist-packages (from requests-oauthlib>=0.7.0->google-auth-oauthlib<0.5,>=0.4.1->tensorboard<2.2.0,>=2.1.0->tensorflow) (3.1.0)\n",
            "Requirement already satisfied: pyasn1>=0.1.3 in /usr/local/lib/python3.6/dist-packages (from rsa<4.1,>=3.1.4->google-auth<2,>=1.6.3->tensorboard<2.2.0,>=2.1.0->tensorflow) (0.4.8)\n",
            "\u001b[31mERROR: tensorflow-federated 0.12.0 has requirement tensorflow-addons~=0.7.0, but you'll have tensorflow-addons 0.8.3 which is incompatible.\u001b[0m\n",
            "Installing collected packages: tensorflow-estimator, tensorboard\n",
            "  Attempting uninstall: tensorflow-estimator\n",
            "    Found existing installation: tensorflow-estimator 1.15.1\n",
            "    Uninstalling tensorflow-estimator-1.15.1:\n",
            "      Successfully uninstalled tensorflow-estimator-1.15.1\n",
            "  Attempting uninstall: tensorboard\n",
            "    Found existing installation: tensorboard 1.15.0\n",
            "    Uninstalling tensorboard-1.15.0:\n",
            "      Successfully uninstalled tensorboard-1.15.0\n",
            "Successfully installed tensorboard-2.1.1 tensorflow-estimator-2.1.0\n"
          ],
          "name": "stdout"
        },
        {
          "output_type": "display_data",
          "data": {
            "application/vnd.colab-display-data+json": {
              "pip_warning": {
                "packages": [
                  "tensorboard",
                  "tensorflow_estimator"
                ]
              }
            }
          },
          "metadata": {
            "tags": []
          }
        }
      ]
    },
    {
      "cell_type": "code",
      "metadata": {
        "id": "SxgYyiyKaVIU",
        "colab_type": "code",
        "outputId": "89038c26-e15a-4997-d69b-b587fb66e4ac",
        "colab": {
          "base_uri": "https://localhost:8080/",
          "height": 34
        }
      },
      "source": [
        "import tensorflow as tf\n",
        "msg = tf.constant('TensorFlow 2.0 Hello World')\n",
        "tf.print(msg)"
      ],
      "execution_count": 0,
      "outputs": [
        {
          "output_type": "stream",
          "text": [
            "TensorFlow 2.0 Hello World\n"
          ],
          "name": "stdout"
        }
      ]
    },
    {
      "cell_type": "code",
      "metadata": {
        "id": "e2ls5Imma6xY",
        "colab_type": "code",
        "outputId": "3fc81b48-f8d8-4e48-8925-48d490895a11",
        "colab": {
          "base_uri": "https://localhost:8080/",
          "height": 70
        }
      },
      "source": [
        "import tensorflow as tf\n",
        "# 텐서 생성\n",
        "a = tf.constant([[1.0, 2.0, 3.0], [4.0, 5.0, 6.0]])\n",
        "b = tf.constant([[1.0, 2.0], [3.0, 4.0], [5.0, 6.0]])\n",
        "c = tf.matmul(a, b)\n",
        "print(c)"
      ],
      "execution_count": 0,
      "outputs": [
        {
          "output_type": "stream",
          "text": [
            "tf.Tensor(\n",
            "[[22. 28.]\n",
            " [49. 64.]], shape=(2, 2), dtype=float32)\n"
          ],
          "name": "stdout"
        }
      ]
    },
    {
      "cell_type": "code",
      "metadata": {
        "id": "LyPUdpgba-Iu",
        "colab_type": "code",
        "outputId": "4dbed8bf-df64-4879-dd61-5b435f66b4e1",
        "colab": {
          "base_uri": "https://localhost:8080/",
          "height": 34
        }
      },
      "source": [
        "def multi_a(a):\n",
        "  b = 1\n",
        "  for i in range(1,a+1):\n",
        "    b*=i\n",
        "  return b\n",
        "\n",
        "print(multi_a(10))"
      ],
      "execution_count": 0,
      "outputs": [
        {
          "output_type": "stream",
          "text": [
            "3628800\n"
          ],
          "name": "stdout"
        }
      ]
    },
    {
      "cell_type": "code",
      "metadata": {
        "id": "2HzqWlfLsqb5",
        "colab_type": "code",
        "colab": {}
      },
      "source": [
        ""
      ],
      "execution_count": 0,
      "outputs": []
    }
  ]
}